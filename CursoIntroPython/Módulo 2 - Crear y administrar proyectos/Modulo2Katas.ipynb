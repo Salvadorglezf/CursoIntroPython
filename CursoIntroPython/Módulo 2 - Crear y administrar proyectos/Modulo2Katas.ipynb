{
 "cells": [
  {
   "cell_type": "markdown",
   "metadata": {},
   "source": [
    "Un asteroide se acerca, y viaja a una velocidad de 49 km/s."
   ]
  },
  {
   "cell_type": "code",
   "execution_count": 3,
   "metadata": {},
   "outputs": [
    {
     "name": "stdout",
     "output_type": "stream",
     "text": [
      "-- Advertencia -- asteroide se acerca demasiado rapido\n"
     ]
    }
   ],
   "source": [
    "\n",
    "\n",
    "# Añadir el código necesario para crear una variable que guarde la velocidad del asteroide.\n",
    "# Escribe una expresión de prueba para calcular si necesita una advertencia.\n",
    "# Agregue las instrucciones que se ejecutarán si la expresión de prueba es true o false.\n",
    "\n",
    "velocidad=49\n",
    "if (velocidad>25):\n",
    "    print(\"-- Advertencia -- asteroide se acerca demasiado rapido\")\n",
    "else:\n",
    "    print(\"No hay riesgos\")"
   ]
  },
  {
   "cell_type": "markdown",
   "metadata": {},
   "source": [
    "Si un asteroide entra en la atmósfera de la Tierra a una velocidad mayor o igual a 20 km/s, a veces produce un rayo de luz que se puede ver desde la Tierra. Escribe la lógica condicional que usa declaraciones if, else, y elif para alertar a las personas de todo el mundo que deben buscar un asteroide en el cielo. ¡Hay uno que se dirige a la tierra ahora a una velocidad de 19 km/s!"
   ]
  },
  {
   "cell_type": "code",
   "execution_count": 4,
   "metadata": {},
   "outputs": [
    {
     "name": "stdout",
     "output_type": "stream",
     "text": [
      "No hay advertencia, vuelve al trabajo\n"
     ]
    }
   ],
   "source": [
    "# Agrega el código para crear una variable para un asteroide que viaja a 19 km/s\n",
    "# Escribe varias expresiones de prueba para determinar si puedes ver el rayo de luz desde la tierra\n",
    "# Agrega las instrucciones que se ejecutarán si las expresiones de prueba son True o False\n",
    "\n",
    "velocidad=19\n",
    "if(velocidad>=20):\n",
    "    print(\"Miren al cielo, ahí esta el asteroide que nos matara a todos!\")\n",
    "else:\n",
    "    print(\"No hay advertencia, vuelve al trabajo\")"
   ]
  },
  {
   "cell_type": "code",
   "execution_count": 9,
   "metadata": {},
   "outputs": [
    {
     "name": "stdout",
     "output_type": "stream",
     "text": [
      "Asteroide casuara mucho daño,podran ver en el cielo una luz\n"
     ]
    }
   ],
   "source": [
    "# Agrega el código para crear nuevas variables para la velocidad y el tamaño del asteroide\n",
    "# Para probar el código, prueba con varias velocidades y tamaños\n",
    "# Escribe varias expresiones de prueba o combinaciones de expresiones de prueba para determinar qué mensaje se debe enviar a Tierra.\n",
    "velocidad=20\n",
    "tamaño=26\n",
    "\n",
    "if( (tamaño<25) and (velocidad>25)):\n",
    "    print(\"-- Advertencia-- asteroide se quemara en la atmosfera \")\n",
    "elif( (tamaño<25) and (velocidad>=20)):\n",
    "    print(\"Asteroide se quemara al entrar a la atmosfera, y podran verlo en el cielo\")\n",
    "\n",
    "elif( (tamaño>25) and (tamaño<1000) and (velocidad>25) ):\n",
    "    print(\"--Advertencia -- Asteroide causará mucho daño \")\n",
    "elif( (tamaño>25) and (tamaño<1000) and (velocidad>=20)):\n",
    "    print(\"Asteroide casuara mucho daño,podran ver en el cielo una luz\")\n",
    "\n"
   ]
  }
 ],
 "metadata": {
  "interpreter": {
   "hash": "b829bc6ae2ac2b87427fb3a4b9283c85896f44bca4e52cbb3a534c3dce8a3a99"
  },
  "kernelspec": {
   "display_name": "Python 3.6.13 ('fullstack')",
   "language": "python",
   "name": "python3"
  },
  "language_info": {
   "codemirror_mode": {
    "name": "ipython",
    "version": 3
   },
   "file_extension": ".py",
   "mimetype": "text/x-python",
   "name": "python",
   "nbconvert_exporter": "python",
   "pygments_lexer": "ipython3",
   "version": "3.6.13"
  },
  "orig_nbformat": 4
 },
 "nbformat": 4,
 "nbformat_minor": 2
}
