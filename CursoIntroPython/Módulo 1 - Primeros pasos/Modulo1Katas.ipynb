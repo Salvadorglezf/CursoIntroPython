{
 "cells": [
  {
   "cell_type": "code",
   "execution_count": 2,
   "metadata": {},
   "outputs": [
    {
     "name": "stdout",
     "output_type": "stream",
     "text": [
      "Today's date is: 2022-02-08\n"
     ]
    }
   ],
   "source": [
    "from datetime import date\n",
    "\n",
    "print(\"Today's date is: \" + str(date.today()))\n"
   ]
  },
  {
   "cell_type": "code",
   "execution_count": 3,
   "metadata": {},
   "outputs": [
    {
     "name": "stdout",
     "output_type": "stream",
     "text": [
      "1 parsec, is 3.26156\n"
     ]
    }
   ],
   "source": [
    "parsec = 1\n",
    "\n",
    "lightyears = 3.26156*parsec\n",
    "\n",
    "print(str(parsec) + \" parsec, is \" + str(lightyears) )"
   ]
  }
 ],
 "metadata": {
  "interpreter": {
   "hash": "b829bc6ae2ac2b87427fb3a4b9283c85896f44bca4e52cbb3a534c3dce8a3a99"
  },
  "kernelspec": {
   "display_name": "Python 3.6.13 ('fullstack')",
   "language": "python",
   "name": "python3"
  },
  "language_info": {
   "codemirror_mode": {
    "name": "ipython",
    "version": 3
   },
   "file_extension": ".py",
   "mimetype": "text/x-python",
   "name": "python",
   "nbconvert_exporter": "python",
   "pygments_lexer": "ipython3",
   "version": "3.6.13"
  },
  "orig_nbformat": 4
 },
 "nbformat": 4,
 "nbformat_minor": 2
}
